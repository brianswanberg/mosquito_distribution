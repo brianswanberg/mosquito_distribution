{
  "nbformat": 4,
  "nbformat_minor": 0,
  "metadata": {
    "colab": {
      "name": "Sys bio final first draft.ipynb",
      "provenance": []
    },
    "kernelspec": {
      "name": "python3",
      "display_name": "Python 3"
    },
    "language_info": {
      "name": "python"
    }
  },
  "cells": [
    {
      "cell_type": "markdown",
      "metadata": {
        "id": "rfDDoibqelU3"
      },
      "source": [
        "Folder with information and data can be found here: https://drive.google.com/drive/folders/11FoXpr5D7klvTGmSRIYl6jDK9rbq1QDc?usp=sharing . Let me know if you still cannot access it."
      ]
    },
    {
      "cell_type": "code",
      "metadata": {
        "colab": {
          "base_uri": "https://localhost:8080/"
        },
        "id": "gepRmB35Hn02",
        "outputId": "b457db0c-09b6-407e-94d6-59eee04984aa"
      },
      "source": [
        "from google.colab import drive\n",
        "from google.colab import files\n",
        "drive.mount('/content/drive/', force_remount=True)"
      ],
      "execution_count": 1,
      "outputs": [
        {
          "output_type": "stream",
          "text": [
            "Mounted at /content/drive/\n"
          ],
          "name": "stdout"
        }
      ]
    },
    {
      "cell_type": "code",
      "metadata": {
        "id": "AjupwPRXINLb"
      },
      "source": [
        "import pandas as pd\n",
        "import numpy as np\n",
        "import random\n",
        "from sklearn.linear_model import LinearRegression\n",
        "from sklearn.model_selection import cross_val_score\n",
        "from sklearn.metrics.pairwise import rbf_kernel\n",
        "from sklearn import svm\n",
        "from sklearn.svm import SVC\n",
        "from sklearn import metrics\n",
        "import matplotlib.pyplot as plt\n",
        "import numpy as np\n",
        "import math\n",
        "import networkx"
      ],
      "execution_count": 6,
      "outputs": []
    },
    {
      "cell_type": "code",
      "metadata": {
        "id": "nmUtwui7IQGm"
      },
      "source": [
        "mosquitodata = pd.read_csv('/content/drive/MyDrive/SPRING - AZ/systems bio/final project data/mosquito counting - Sheet1.csv')\n",
        "env_data = pd.read_csv('/content/drive/MyDrive/SPRING - AZ/systems bio/final project data/Rio de Janeiro_raw - Página1 (1).csv')"
      ],
      "execution_count": 7,
      "outputs": []
    },
    {
      "cell_type": "code",
      "metadata": {
        "id": "mTTuVPYJKRXY"
      },
      "source": [
        "results = mosquitodata['total']\n",
        "results_train = results[:9] #training set\n",
        "results_test = results[9:] #test set"
      ],
      "execution_count": 8,
      "outputs": []
    },
    {
      "cell_type": "code",
      "metadata": {
        "colab": {
          "base_uri": "https://localhost:8080/"
        },
        "id": "POgVkCjz1YjM",
        "outputId": "ef8ae4ca-1d10-4b68-b82d-6f056122af14"
      },
      "source": [
        "print(len(env_data['Day']))"
      ],
      "execution_count": 43,
      "outputs": [
        {
          "output_type": "stream",
          "text": [
            "44\n"
          ],
          "name": "stdout"
        }
      ]
    },
    {
      "cell_type": "code",
      "metadata": {
        "colab": {
          "base_uri": "https://localhost:8080/"
        },
        "id": "U0yH483nKWp4",
        "outputId": "bcc3cab1-3da3-4d2d-dded-53b5226c49f4"
      },
      "source": [
        " \n",
        "s = np.random.uniform(0, 32, 1000) \n",
        "#^ extract a bunch of random samples from distribution between current day and 21 days past\n",
        "x_vals = []\n",
        "days_lst = []\n",
        "potential = 0\n",
        "for i in range(1000):\n",
        "    val = int(round(s[i], 0)) #clean data for index call\n",
        "    the_startingday = 32 - val #hypothetical starting date\n",
        "    days_lst.append(the_startingday) #starting day considered\n",
        "    lst = []\n",
        "    for j in range(12): #length of mosquito data\n",
        "        lst.append([])\n",
        "        lst[j].append(env_data['precip'][the_startingday + j]) #add to list\n",
        "        lst[j].append(env_data['Temp Comp Media'][the_startingday + j])\n",
        "        lst[j].append(env_data['Umidade Relativa Media'][the_startingday + j])\n",
        "    x_vals.append(lst)\n",
        "\n",
        "best = -1000\n",
        "bestk = 0\n",
        "best_potential = 0\n",
        "\n",
        "for k in range(len(x_vals)):\n",
        "  x_vals_train = x_vals[k][:9] #split into training and test sets\n",
        "  x_vals_test = x_vals[k][9:]\n",
        "  rbf_svc = SVC(kernel='linear')\n",
        "  rbf_svc.fit(x_vals_train, results_train) #fit into a linear SVM\n",
        "  potential = rbf_svc.predict(x_vals_train) #predict future values\n",
        "  score = round(metrics.r2_score(results_train, potential), 2) #score accuracy\n",
        "  if score == 1:\n",
        "      potential = rbf_svc.predict(x_vals_test) #predict future values\n",
        "      score = round(metrics.r2_score(results_test, potential), 2) #score accuracy\n",
        "      if score > best: #if better\n",
        "          best = score #update best R_2 score\n",
        "          best_potential = potential #best array\n",
        "          bestk = k #update best iteration name\n",
        "      if score == best:\n",
        "          print(days_lst[k])\n",
        "\n"
      ],
      "execution_count": 44,
      "outputs": [
        {
          "output_type": "stream",
          "text": [
            "3\n",
            "13\n",
            "17\n",
            "12\n",
            "27\n",
            "27\n",
            "24\n",
            "10\n",
            "9\n",
            "9\n",
            "9\n",
            "9\n",
            "9\n",
            "9\n",
            "9\n",
            "9\n",
            "9\n",
            "9\n",
            "9\n",
            "9\n",
            "9\n",
            "9\n",
            "9\n",
            "9\n",
            "9\n",
            "9\n",
            "9\n",
            "9\n",
            "9\n",
            "9\n",
            "9\n",
            "9\n",
            "9\n",
            "9\n"
          ],
          "name": "stdout"
        }
      ]
    },
    {
      "cell_type": "code",
      "metadata": {
        "colab": {
          "base_uri": "https://localhost:8080/"
        },
        "id": "Kg2HRQeIThjk",
        "outputId": "c835a9da-22e7-4673-9497-c76580ff1133"
      },
      "source": [
        "best #best R_2 score"
      ],
      "execution_count": 45,
      "outputs": [
        {
          "output_type": "execute_result",
          "data": {
            "text/plain": [
              "0.79"
            ]
          },
          "metadata": {
            "tags": []
          },
          "execution_count": 45
        }
      ]
    },
    {
      "cell_type": "code",
      "metadata": {
        "colab": {
          "base_uri": "https://localhost:8080/"
        },
        "id": "Ygnx7KzheRTB",
        "outputId": "cebbf596-5b59-4693-d33b-b2e185bb1943"
      },
      "source": [
        "print(bestk)\n",
        "print(\"The best option was (comparison): \", days_lst[bestk], \" the ninth day of measurement.\")"
      ],
      "execution_count": 49,
      "outputs": [
        {
          "output_type": "stream",
          "text": [
            "18\n",
            "The best option was (comparison):  9  the ninth day of measurement.\n"
          ],
          "name": "stdout"
        }
      ]
    },
    {
      "cell_type": "code",
      "metadata": {
        "colab": {
          "base_uri": "https://localhost:8080/"
        },
        "id": "eHoiAvPcyh37",
        "outputId": "a0fc92fa-264b-490b-f8ac-1a3affeef91c"
      },
      "source": [
        "metrics.mean_squared_error(results_test, best_potential)"
      ],
      "execution_count": 50,
      "outputs": [
        {
          "output_type": "execute_result",
          "data": {
            "text/plain": [
              "156.66666666666666"
            ]
          },
          "metadata": {
            "tags": []
          },
          "execution_count": 50
        }
      ]
    },
    {
      "cell_type": "code",
      "metadata": {
        "colab": {
          "base_uri": "https://localhost:8080/"
        },
        "id": "l10JmTn5SyyT",
        "outputId": "f3439381-4b98-497d-ca18-f442208a65bd"
      },
      "source": [
        "best_potential #best test predictions"
      ],
      "execution_count": 51,
      "outputs": [
        {
          "output_type": "execute_result",
          "data": {
            "text/plain": [
              "array([37, 82, 37])"
            ]
          },
          "metadata": {
            "tags": []
          },
          "execution_count": 51
        }
      ]
    },
    {
      "cell_type": "code",
      "metadata": {
        "colab": {
          "base_uri": "https://localhost:8080/"
        },
        "id": "gWeB-IdITEFo",
        "outputId": "ee36f118-5d3c-48a4-cf26-6a636ecac6b0"
      },
      "source": [
        "results_test #test results"
      ],
      "execution_count": 52,
      "outputs": [
        {
          "output_type": "execute_result",
          "data": {
            "text/plain": [
              "9     23\n",
              "10    89\n",
              "11    52\n",
              "Name: total, dtype: int64"
            ]
          },
          "metadata": {
            "tags": []
          },
          "execution_count": 52
        }
      ]
    },
    {
      "cell_type": "markdown",
      "metadata": {
        "id": "aDuO29GMZ0yQ"
      },
      "source": [
        "# Potential Networks"
      ]
    },
    {
      "cell_type": "code",
      "metadata": {
        "colab": {
          "base_uri": "https://localhost:8080/",
          "height": 130
        },
        "id": "fF-6YV4kaZ7e",
        "outputId": "ea5df218-b2df-4592-86db-75b824512f28"
      },
      "source": [
        "G = networkx.Graph()\n",
        "G.add_node(\"Mosquito Density\")\n",
        "G.add_node(\"Temperature\")\n",
        "G.add_node(\"Humidity\")\n",
        "G.add_node(\"Precipitation\")\n",
        "G.add_edge(\"Mosquito Density\",\"Temperature\")\n",
        "G.add_edge(\"Mosquito Density\",\"Humidity\")\n",
        "G.add_edge(\"Mosquito Density\",\"Precipitation\")\n",
        "layout = networkx.spring_layout(G)\n",
        "figure = plt.subplot(2, 1, 1)\n",
        "\n",
        "networkx.draw(\n",
        "    G, pos = layout, with_labels=True,\n",
        "    edge_cmap=plt.cm.binary, edge_vmin=-1, edge_vmax=4,\n",
        "    alpha=0.8, vmin=0, vmax=3)\n",
        "axis = plt.gca()\n",
        "axis.set_xlim([1.5*x for x in axis.get_xlim()])\n",
        "axis.set_ylim([1.5*y for y in axis.get_ylim()])\n",
        "plt.show()"
      ],
      "execution_count": 129,
      "outputs": [
        {
          "output_type": "display_data",
          "data": {
            "image/png": "[encoded data removed]",
            "text/plain": [
              "<Figure size 432x288 with 1 Axes>"
            ]
          },
          "metadata": {
            "tags": []
          }
        }
      ]
    }
  ]
}